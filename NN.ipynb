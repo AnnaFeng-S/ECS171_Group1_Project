{
  "nbformat": 4,
  "nbformat_minor": 5,
  "metadata": {
    "kernelspec": {
      "display_name": "Python 3",
      "language": "python",
      "name": "python3"
    },
    "language_info": {
      "codemirror_mode": {
        "name": "ipython",
        "version": 3
      },
      "file_extension": ".py",
      "mimetype": "text/x-python",
      "name": "python",
      "nbconvert_exporter": "python",
      "pygments_lexer": "ipython3",
      "version": "3.8.8"
    },
    "colab": {
      "name": "NN.ipynb",
      "provenance": []
    }
  },
  "cells": [
    {
      "cell_type": "code",
      "metadata": {
        "id": "8e61f0b0"
      },
      "source": [
        "import numpy as np\n",
        "import pandas as pd\n",
        "from numpy import array\n",
        "from sklearn.neural_network import MLPClassifier\n",
        "from sklearn.model_selection import train_test_split,cross_val_score,cross_validate,GridSearchCV\n",
        "from sklearn.metrics import confusion_matrix, accuracy_score, mean_squared_error, multilabel_confusion_matrix, classification_report"
      ],
      "id": "8e61f0b0",
      "execution_count": 17,
      "outputs": []
    },
    {
      "cell_type": "code",
      "metadata": {
        "colab": {
          "base_uri": "https://localhost:8080/"
        },
        "id": "31ea9b01",
        "outputId": "26218e9c-e875-4277-9d88-550b91f19ff0"
      },
      "source": [
        "df = pd.read_csv('SpotifyFeatures_new.csv',encoding='latin-1')\n",
        "\n",
        "\n",
        "# Drop columns\n",
        "dropped_columns = ['genre', 'artist_name', 'track_name','track_id', 'mode', 'duration_ms', 'tempo', 'energy', 'acousticness']\n",
        "df.drop(columns=dropped_columns, inplace=True)\n",
        "\n",
        "# Normalize data\n",
        "X, y = df.drop(columns='popularity'), df['popularity']\n",
        "X = (X-X.min())/(X.max()-X.min())\n",
        "\n",
        "y = ((y-1)//20)+1\n",
        "\n",
        "print(y)\n",
        "print(X)"
      ],
      "id": "31ea9b01",
      "execution_count": 9,
      "outputs": [
        {
          "output_type": "stream",
          "name": "stdout",
          "text": [
            "0         1\n",
            "1         1\n",
            "2         1\n",
            "3         1\n",
            "4         1\n",
            "         ..\n",
            "169679    5\n",
            "169680    5\n",
            "169681    5\n",
            "169682    5\n",
            "169683    5\n",
            "Name: popularity, Length: 169684, dtype: int64\n",
            "        danceability  instrumentalness  ...  speechiness   valence\n",
            "0           0.541895          0.029930  ...     0.024661  0.416768\n",
            "1           0.503272          0.621622  ...     0.302498  0.780275\n",
            "2           0.268319          0.283283  ...     0.014712  0.509923\n",
            "3           0.477524          0.004755  ...     0.004551  0.452207\n",
            "4           0.423882          0.376376  ...     0.016617  0.648643\n",
            "...              ...               ...  ...          ...       ...\n",
            "169679      0.754318          0.000000  ...     0.025826  0.911908\n",
            "169680      0.729643          0.000002  ...     0.039268  0.651681\n",
            "169681      0.717841          0.000000  ...     0.073561  0.326650\n",
            "169682      0.832636          0.000002  ...     0.164903  0.377278\n",
            "169683      0.716769          0.000000  ...     0.318374  0.310450\n",
            "\n",
            "[169684 rows x 6 columns]\n"
          ]
        }
      ]
    },
    {
      "cell_type": "code",
      "metadata": {
        "id": "pacific-radar"
      },
      "source": [
        "X_train, X_test, y_train, y_test = train_test_split(X, y, test_size = 0.20, random_state=5)\n",
        "\n",
        "mlp = MLPClassifier(solver = 'sgd',activation=\"logistic\", hidden_layer_sizes=(16, 12, 8), learning_rate_init=0.2, max_iter=400, random_state=1)\n",
        "nn_model = mlp.fit(X_train, y_train)\n"
      ],
      "id": "pacific-radar",
      "execution_count": 10,
      "outputs": []
    },
    {
      "cell_type": "code",
      "metadata": {
        "id": "ready-special",
        "colab": {
          "base_uri": "https://localhost:8080/"
        },
        "outputId": "2770df03-03c1-461e-fb60-8fc7a9dcbae5"
      },
      "source": [
        "# Make prediction\n",
        "y_pred = nn_model.predict(X_test)\n",
        "\n",
        "# Accuracy\n",
        "print(\"\\nAccuracy: \")\n",
        "print(accuracy_score(y_test, y_pred))\n",
        "\n",
        "# MSE\n",
        "print('\\nMSE: ')\n",
        "print(mean_squared_error(y_test,y_pred))\n",
        "\n",
        "# The map of label and their precision and recall\n",
        "print(\"\\nPrecision and recall:\" )\n",
        "print(classification_report(y_test, y_pred))\n",
        "\n",
        "\n",
        "print(\"Confusion matrix: \")\n",
        "matrix = confusion_matrix(y_test, y_pred)\n",
        "multi_matrix = multilabel_confusion_matrix(y_test, y_pred)\n",
        "print(multi_matrix)"
      ],
      "id": "ready-special",
      "execution_count": 23,
      "outputs": [
        {
          "output_type": "stream",
          "name": "stdout",
          "text": [
            "\n",
            "Accuracy: \n",
            "0.5147479152547367\n",
            "\n",
            "MSE: \n",
            "0.6447535138639243\n",
            "\n",
            "Precision and recall:\n",
            "              precision    recall  f1-score   support\n",
            "\n",
            "           1       0.64      0.27      0.38      5149\n",
            "           2       0.51      0.63      0.56     13755\n",
            "           3       0.50      0.60      0.55     12322\n",
            "           4       0.00      0.00      0.00      2614\n",
            "           5       0.00      0.00      0.00        97\n",
            "\n",
            "    accuracy                           0.51     33937\n",
            "   macro avg       0.33      0.30      0.30     33937\n",
            "weighted avg       0.49      0.51      0.48     33937\n",
            "\n",
            "Confusion matrix: \n",
            "[[[27997   791]\n",
            "  [ 3762  1387]]\n",
            "\n",
            " [[11839  8343]\n",
            "  [ 5110  8645]]\n",
            "\n",
            " [[14281  7334]\n",
            "  [ 4885  7437]]\n",
            "\n",
            " [[31323     0]\n",
            "  [ 2614     0]]\n",
            "\n",
            " [[33840     0]\n",
            "  [   97     0]]]\n"
          ]
        },
        {
          "output_type": "stream",
          "name": "stderr",
          "text": [
            "/usr/local/lib/python3.7/dist-packages/sklearn/metrics/_classification.py:1272: UndefinedMetricWarning: Precision and F-score are ill-defined and being set to 0.0 in labels with no predicted samples. Use `zero_division` parameter to control this behavior.\n",
            "  _warn_prf(average, modifier, msg_start, len(result))\n"
          ]
        }
      ]
    }
  ]
}