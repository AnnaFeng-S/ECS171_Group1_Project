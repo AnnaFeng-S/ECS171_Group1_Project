{
 "cells": [
  {
   "cell_type": "code",
   "execution_count": 1,
   "id": "8e61f0b0",
   "metadata": {
    "id": "8e61f0b0"
   },
   "outputs": [],
   "source": [
    "import numpy as np\n",
    "import pandas as pd\n",
    "from numpy import array\n",
    "from sklearn.neural_network import MLPClassifier\n",
    "from imblearn.over_sampling import RandomOverSampler\n",
    "from sklearn.model_selection import train_test_split,cross_val_score,cross_validate,GridSearchCV\n",
    "from sklearn.metrics import confusion_matrix, accuracy_score, mean_squared_error, multilabel_confusion_matrix, classification_report"
   ]
  },
  {
   "cell_type": "code",
   "execution_count": 6,
   "id": "31ea9b01",
   "metadata": {
    "colab": {
     "base_uri": "https://localhost:8080/"
    },
    "id": "31ea9b01",
    "outputId": "26218e9c-e875-4277-9d88-550b91f19ff0"
   },
   "outputs": [
    {
     "name": "stdout",
     "output_type": "stream",
     "text": [
      "0         1\n",
      "1         1\n",
      "2         1\n",
      "3         1\n",
      "4         1\n",
      "         ..\n",
      "169679    5\n",
      "169680    5\n",
      "169681    5\n",
      "169682    5\n",
      "169683    5\n",
      "Name: popularity, Length: 169684, dtype: int64\n",
      "        danceability  instrumentalness  liveness  loudness  speechiness  \\\n",
      "0           0.541895          0.029930  0.095251  0.808082     0.024661   \n",
      "1           0.503272          0.621622  0.369907  0.745076     0.302498   \n",
      "2           0.268319          0.283283  0.509254  0.730983     0.014712   \n",
      "3           0.477524          0.004755  0.113427  0.778349     0.004551   \n",
      "4           0.423882          0.376376  0.097271  0.701589     0.016617   \n",
      "...              ...               ...       ...       ...          ...   \n",
      "169679      0.754318          0.000000  0.061222  0.834202     0.025826   \n",
      "169680      0.729643          0.000002  0.048196  0.886194     0.039268   \n",
      "169681      0.717841          0.000000  0.097271  0.839256     0.073561   \n",
      "169682      0.832636          0.000002  0.092222  0.801730     0.164903   \n",
      "169683      0.716769          0.000000  0.079499  0.742211     0.318374   \n",
      "\n",
      "         valence  \n",
      "0       0.416768  \n",
      "1       0.780275  \n",
      "2       0.509923  \n",
      "3       0.452207  \n",
      "4       0.648643  \n",
      "...          ...  \n",
      "169679  0.911908  \n",
      "169680  0.651681  \n",
      "169681  0.326650  \n",
      "169682  0.377278  \n",
      "169683  0.310450  \n",
      "\n",
      "[169684 rows x 6 columns]\n"
     ]
    }
   ],
   "source": [
    "df = pd.read_csv('SpotifyFeatures_new.csv',encoding='latin-1')\n",
    "\n",
    "\n",
    "# Drop columns\n",
    "dropped_columns = ['genre', 'artist_name', 'track_name','track_id', 'mode', 'duration_ms', 'tempo', 'energy', 'acousticness']\n",
    "df.drop(columns=dropped_columns, inplace=True)\n",
    "\n",
    "# Normalize data\n",
    "X, y = df.drop(columns='popularity'), df['popularity']\n",
    "X = (X-X.min())/(X.max()-X.min())\n",
    "\n",
    "y = ((y-1)//20)+1\n",
    "\n",
    "print(y)\n",
    "print(X)"
   ]
  },
  {
   "cell_type": "code",
   "execution_count": 10,
   "id": "pacific-radar",
   "metadata": {
    "id": "pacific-radar"
   },
   "outputs": [
    {
     "name": "stdout",
     "output_type": "stream",
     "text": [
      "{2: 55273, 1: 20567, 3: 49241, 4: 10270, 5: 396}\n",
      "{2: 55273, 1: 55273, 3: 55273, 4: 55273, 5: 55273}\n"
     ]
    },
    {
     "name": "stderr",
     "output_type": "stream",
     "text": [
      "/Users/alexchiu/opt/anaconda3/lib/python3.8/site-packages/sklearn/neural_network/_multilayer_perceptron.py:619: UserWarning: Training interrupted by user.\n",
      "  warnings.warn(\"Training interrupted by user.\")\n"
     ]
    }
   ],
   "source": [
    "X_train, X_test, y_train, y_test = train_test_split(X, y, test_size = 0.20, random_state=5)\n",
    "\n",
    "def getdistribution(data):\n",
    "    distribution = dict()\n",
    "    for value in data:\n",
    "        if value in distribution:\n",
    "            distribution[value] += 1\n",
    "        else:\n",
    "            distribution[value] = 1\n",
    "    return distribution\n",
    "dist = getdistribution(y_train)\n",
    "print(dist) # print frequency\n",
    "for key in dist:\n",
    "    dist[key] = 1;\n",
    "\n",
    "sampler = RandomOverSampler(random_state=42)\n",
    "X_samp, y_samp = sampler.fit_resample(X_train, y_train)\n",
    "\n",
    "print(getdistribution(y_samp)) # print frequency after over sampling\n",
    "\n",
    "\n",
    "mlp = MLPClassifier(solver = 'sgd',activation=\"logistic\", hidden_layer_sizes=(16, 12, 8), learning_rate_init=0.2, max_iter=400, random_state=1)\n",
    "nn_model = mlp.fit(X_samp, y_samp)\n"
   ]
  },
  {
   "cell_type": "code",
   "execution_count": 8,
   "id": "f35e6568",
   "metadata": {},
   "outputs": [
    {
     "data": {
      "text/plain": [
       "['finalized_model.joblib']"
      ]
     },
     "execution_count": 8,
     "metadata": {},
     "output_type": "execute_result"
    }
   ],
   "source": [
    "import joblib\n",
    "# save the model to disk\n",
    "filename = 'finalized_model.joblib'\n",
    "joblib.dump(nn_model, filename)"
   ]
  },
  {
   "cell_type": "code",
   "execution_count": 9,
   "id": "ready-special",
   "metadata": {
    "colab": {
     "base_uri": "https://localhost:8080/"
    },
    "id": "ready-special",
    "outputId": "2770df03-03c1-461e-fb60-8fc7a9dcbae5"
   },
   "outputs": [
    {
     "name": "stdout",
     "output_type": "stream",
     "text": [
      "\n",
      "Accuracy: \n",
      "0.3278133011167752\n",
      "\n",
      "MSE: \n",
      "1.8834015970769367\n",
      "\n",
      "Precision and recall:\n",
      "              precision    recall  f1-score   support\n",
      "\n",
      "           1       0.45      0.48      0.46      5149\n",
      "           2       0.52      0.49      0.51     13755\n",
      "           3       0.48      0.06      0.11     12322\n",
      "           4       0.12      0.40      0.19      2614\n",
      "           5       0.01      0.51      0.02        97\n",
      "\n",
      "    accuracy                           0.33     33937\n",
      "   macro avg       0.32      0.39      0.26     33937\n",
      "weighted avg       0.46      0.33      0.33     33937\n",
      "\n",
      "Confusion matrix: \n",
      "[[[25722  3066]\n",
      "  [ 2674  2475]]\n",
      "\n",
      " [[13974  6208]\n",
      "  [ 6980  6775]]\n",
      "\n",
      " [[20787   828]\n",
      "  [11549   773]]\n",
      "\n",
      " [[23723  7600]\n",
      "  [ 1561  1053]]\n",
      "\n",
      " [[28730  5110]\n",
      "  [   48    49]]]\n"
     ]
    }
   ],
   "source": [
    "# Make prediction\n",
    "y_pred = nn_model.predict(X_test)\n",
    "\n",
    "# Accuracy\n",
    "print(\"\\nAccuracy: \")\n",
    "print(accuracy_score(y_test, y_pred))\n",
    "\n",
    "# MSE\n",
    "print('\\nMSE: ')\n",
    "print(mean_squared_error(y_test,y_pred))\n",
    "\n",
    "# The map of label and their precision and recall\n",
    "print(\"\\nPrecision and recall:\" )\n",
    "print(classification_report(y_test, y_pred))\n",
    "\n",
    "\n",
    "print(\"Confusion matrix: \")\n",
    "matrix = confusion_matrix(y_test, y_pred)\n",
    "multi_matrix = multilabel_confusion_matrix(y_test, y_pred)\n",
    "print(multi_matrix)"
   ]
  },
  {
   "cell_type": "code",
   "execution_count": null,
   "id": "3f09a3f5",
   "metadata": {},
   "outputs": [],
   "source": []
  }
 ],
 "metadata": {
  "colab": {
   "name": "NN.ipynb",
   "provenance": []
  },
  "kernelspec": {
   "display_name": "Python 3",
   "language": "python",
   "name": "python3"
  },
  "language_info": {
   "codemirror_mode": {
    "name": "ipython",
    "version": 3
   },
   "file_extension": ".py",
   "mimetype": "text/x-python",
   "name": "python",
   "nbconvert_exporter": "python",
   "pygments_lexer": "ipython3",
   "version": "3.8.8"
  }
 },
 "nbformat": 4,
 "nbformat_minor": 5
}
