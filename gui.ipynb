{
 "cells": [
  {
   "cell_type": "code",
   "execution_count": null,
   "id": "1e6f1e36",
   "metadata": {},
   "outputs": [],
   "source": [
    "from tkinter import *\n",
    "from tkinter import font as tkFont  # for convenience\n",
    "\n",
    "root = Tk()\n",
    "root.title('Codemy.com')\n",
    "root.geometry(\"1200x800\")\n",
    "\n",
    "# Maybe you need to change the image name here\n",
    "bg = PhotoImage(file = \"ezgif-6-e65926dac16f.gif\",master = root)\n",
    "\n",
    "my_canvas = Canvas(root,width=1200,height = 800)\n",
    "my_canvas.pack(fill=\"both\",expand = True)\n",
    "my_canvas.create_image(0,0,image = bg, anchor=\"nw\")\n",
    "\n",
    "# Add Label\n",
    "my_canvas.create_text(630, 120, text = \"Song Popularity\",fill=\"white\",font = \"Times 100 italic bold\")\n",
    "my_canvas.create_text(450, 300, text = \"Song  Name: \",font=('Arial','30','bold'))\n",
    "my_canvas.create_text(630, 400, text = \"__________________\",font=('Arial','30','bold'))\n",
    "my_canvas.create_text(425, 600, text = \"Result: \",fill = \"#5e9d54\",font=('Arial','30','bold'))\n",
    "my_canvas.create_text(725, 600, text = \"__________________\",fill = \"#5e9d54\",font=('Arial','30','bold'))\n",
    "\n",
    "    \n",
    "# Input Entry Bar\n",
    "entry = Entry(my_canvas,bg = \"#5e9d54\",width=12, font = ('Arial','30','bold'), bd = 0, justify='center')\n",
    "entry_window = my_canvas.create_window(630,390,window=entry)\n",
    "\n",
    "\n",
    "# Output Entry Bar\n",
    "output = Entry(my_canvas,bg = \"#222222\",fg = \"#5e9d54\",width=12, font = ('Arial','30','bold'), bd = 0, justify='center')\n",
    "output_window = my_canvas.create_window(725, 590,window=output)\n",
    " \n",
    "# The function, which we should change to connect API and our model\n",
    "def setTextInput():\n",
    "    text = entry.get()\n",
    "    # API\n",
    "    # Model\n",
    "    output.delete(0,\"end\")\n",
    "    output.insert(0, text)\n",
    "    \n",
    "# Add buttons    \n",
    "go_button = Button(root, text = \"GO\",width=8, height=1,fg = \"#fff\", command=lambda:setTextInput()) #When hit the button, run setTextInput(). We can change this function to API. \n",
    "helv36 = tkFont.Font(family='Arial',weight='bold')\n",
    "go_button['font'] = helv36\n",
    "\n",
    "go_button.configure(bg = \"#c78a86\")\n",
    "button_window = my_canvas.create_window(850, 300, window=go_button)\n",
    "\n",
    "\n",
    "root.mainloop()"
   ]
  },
  {
   "cell_type": "code",
   "execution_count": null,
   "id": "f611442a",
   "metadata": {},
   "outputs": [],
   "source": []
  }
 ],
 "metadata": {
  "kernelspec": {
   "display_name": "Python 3",
   "language": "python",
   "name": "python3"
  }
 },
 "nbformat": 4,
 "nbformat_minor": 5
}
