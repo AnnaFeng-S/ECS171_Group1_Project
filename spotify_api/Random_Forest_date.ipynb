{
 "cells": [
  {
   "cell_type": "code",
   "execution_count": 1,
   "id": "e9073b11",
   "metadata": {},
   "outputs": [],
   "source": [
    "import numpy as np\n",
    "import pandas as pd\n",
    "from numpy import array\n",
    "from sklearn.ensemble import RandomForestClassifier, BaggingClassifier\n",
    "from sklearn.tree import DecisionTreeClassifier\n",
    "from sklearn.model_selection import train_test_split,cross_val_score,cross_validate,GridSearchCV\n",
    "from sklearn.metrics import confusion_matrix, accuracy_score, mean_squared_error, multilabel_confusion_matrix, classification_report"
   ]
  },
  {
   "cell_type": "code",
   "execution_count": 2,
   "id": "7e148b04",
   "metadata": {},
   "outputs": [],
   "source": [
    "df = pd.read_csv(\"SpotifyWithDate.csv\")\n",
    "# Normalize data\n",
    "X, y = df.drop(columns=['popularity', 'track_id']), df['popularity']\n",
    "X = (X-X.min())/(X.max()-X.min())\n",
    "y = ((y-1)//20)+1"
   ]
  },
  {
   "cell_type": "code",
   "execution_count": 3,
   "id": "278826b3",
   "metadata": {},
   "outputs": [],
   "source": [
    "X_train, X_test, y_train, y_test = train_test_split(X, y, test_size = 0.30, random_state=5)\n",
    "\n",
    "rf_cla = RandomForestClassifier(n_estimators=1500,random_state=1)"
   ]
  },
  {
   "cell_type": "code",
   "execution_count": null,
   "id": "7069c10b",
   "metadata": {},
   "outputs": [],
   "source": [
    "rf_cla.fit(X_train, y_train)"
   ]
  },
  {
   "cell_type": "code",
   "execution_count": null,
   "id": "93a7a4f3",
   "metadata": {},
   "outputs": [],
   "source": [
    "# Make prediction\n",
    "y_pred = rf_cla.predict(X_test)\n",
    "\n",
    "# Accuracy\n",
    "print(\"\\nAccuracy: \")\n",
    "print(accuracy_score(y_test, y_pred))\n",
    "\n",
    "# MSE\n",
    "print('\\nMSE: ')\n",
    "print(mean_squared_error(y_test,y_pred))\n",
    "\n",
    "# The map of label and their precision and recall\n",
    "print(\"\\nPrecision and recall:\" )\n",
    "print(classification_report(y_test, y_pred))\n",
    "\n",
    "\n",
    "print(\"Confusion matrix: \")\n",
    "matrix = confusion_matrix(y_test, y_pred)\n",
    "multi_matrix = multilabel_confusion_matrix(y_test, y_pred)\n",
    "print(multi_matrix)"
   ]
  }
 ],
 "metadata": {
  "kernelspec": {
   "display_name": "Python 3",
   "language": "python",
   "name": "python3"
  },
  "language_info": {
   "codemirror_mode": {
    "name": "ipython",
    "version": 3
   },
   "file_extension": ".py",
   "mimetype": "text/x-python",
   "name": "python",
   "nbconvert_exporter": "python",
   "pygments_lexer": "ipython3",
   "version": "3.8.8"
  }
 },
 "nbformat": 4,
 "nbformat_minor": 5
}
