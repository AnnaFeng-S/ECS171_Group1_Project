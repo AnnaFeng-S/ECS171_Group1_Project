{
 "cells": [
  {
   "cell_type": "code",
   "execution_count": 1,
   "id": "e9073b11",
   "metadata": {},
   "outputs": [],
   "source": [
    "import numpy as np\n",
    "import pandas as pd\n",
    "from numpy import array\n",
    "from sklearn.ensemble import RandomForestClassifier, BaggingClassifier\n",
    "from sklearn.tree import DecisionTreeClassifier\n",
    "from sklearn.model_selection import train_test_split,cross_val_score,cross_validate,GridSearchCV\n",
    "from sklearn.metrics import confusion_matrix, accuracy_score, mean_squared_error, multilabel_confusion_matrix, classification_report"
   ]
  },
  {
   "cell_type": "code",
   "execution_count": 2,
   "id": "7e148b04",
   "metadata": {},
   "outputs": [],
   "source": [
    "df = pd.read_csv(\"SpotifyWithDate.csv\")\n",
    "# Normalize data\n",
    "X, y = df.drop(columns=['popularity', 'track_id']), df['popularity']\n",
    "X = (X-X.min())/(X.max()-X.min())\n",
    "y = ((y-1)//20)+1"
   ]
  },
  {
   "cell_type": "code",
   "execution_count": 3,
   "id": "278826b3",
   "metadata": {},
   "outputs": [],
   "source": [
    "X_train, X_test, y_train, y_test = train_test_split(X, y, test_size = 0.30, random_state=5)\n",
    "\n",
    "rf_cla = RandomForestClassifier(n_estimators=1500,random_state=1)"
   ]
  },
  {
   "cell_type": "code",
   "execution_count": 4,
   "id": "7069c10b",
   "metadata": {},
   "outputs": [
    {
     "data": {
      "text/plain": [
       "RandomForestClassifier(n_estimators=1500, random_state=1)"
      ]
     },
     "execution_count": 4,
     "metadata": {},
     "output_type": "execute_result"
    }
   ],
   "source": [
    "rf_cla.fit(X_train, y_train)"
   ]
  },
  {
   "cell_type": "code",
   "execution_count": 5,
   "id": "93a7a4f3",
   "metadata": {},
   "outputs": [
    {
     "name": "stdout",
     "output_type": "stream",
     "text": [
      "\n",
      "Accuracy: \n",
      "0.4934199837530463\n",
      "\n",
      "MSE: \n",
      "0.7262388302193339\n",
      "\n",
      "Precision and recall:\n",
      "              precision    recall  f1-score   support\n",
      "\n",
      "           1       0.63      0.37      0.47     10255\n",
      "           2       0.48      0.68      0.57     17745\n",
      "           3       0.43      0.41      0.42     12089\n",
      "           4       0.75      0.12      0.21      2840\n",
      "           5       0.81      0.46      0.58       156\n",
      "\n",
      "    accuracy                           0.49     43085\n",
      "   macro avg       0.62      0.41      0.45     43085\n",
      "weighted avg       0.52      0.49      0.48     43085\n",
      "\n",
      "Confusion matrix: \n",
      "[[[30580  2250]\n",
      "  [ 6435  3820]]\n",
      "\n",
      " [[12346 12994]\n",
      "  [ 5625 12120]]\n",
      "\n",
      " [[24549  6447]\n",
      "  [ 7190  4899]]\n",
      "\n",
      " [[40127   118]\n",
      "  [ 2491   349]]\n",
      "\n",
      " [[42912    17]\n",
      "  [   85    71]]]\n"
     ]
    }
   ],
   "source": [
    "# Make prediction\n",
    "y_pred = rf_cla.predict(X_test)\n",
    "\n",
    "# Accuracy\n",
    "print(\"\\nAccuracy: \")\n",
    "print(accuracy_score(y_test, y_pred))\n",
    "\n",
    "# MSE\n",
    "print('\\nMSE: ')\n",
    "print(mean_squared_error(y_test,y_pred))\n",
    "\n",
    "# The map of label and their precision and recall\n",
    "print(\"\\nPrecision and recall:\" )\n",
    "print(classification_report(y_test, y_pred))\n",
    "\n",
    "\n",
    "print(\"Confusion matrix: \")\n",
    "matrix = confusion_matrix(y_test, y_pred)\n",
    "multi_matrix = multilabel_confusion_matrix(y_test, y_pred)\n",
    "print(multi_matrix)"
   ]
  },
  {
   "cell_type": "code",
   "execution_count": 8,
   "id": "50efb2cb",
   "metadata": {},
   "outputs": [
    {
     "name": "stdout",
     "output_type": "stream",
     "text": [
      "For popularity distrubtion {1: 34209, 2: 59120, 3: 40131, 4: 9622, 5: 534}\n"
     ]
    }
   ],
   "source": [
    "def getdistribution(data):\n",
    "    distribution = dict()\n",
    "    for value in data:\n",
    "        if value in distribution:\n",
    "            distribution[value] += 1\n",
    "        else:\n",
    "            distribution[value] = 1\n",
    "    return distribution\n",
    "\n",
    "dist = getdistribution(y)\n",
    "print(f'For popularity distrubtion {dist}') # print frequency"
   ]
  },
  {
   "cell_type": "code",
   "execution_count": null,
   "id": "43a50e69",
   "metadata": {},
   "outputs": [],
   "source": []
  }
 ],
 "metadata": {
  "kernelspec": {
   "display_name": "Python 3",
   "language": "python",
   "name": "python3"
  },
  "language_info": {
   "codemirror_mode": {
    "name": "ipython",
    "version": 3
   },
   "file_extension": ".py",
   "mimetype": "text/x-python",
   "name": "python",
   "nbconvert_exporter": "python",
   "pygments_lexer": "ipython3",
   "version": "3.8.8"
  }
 },
 "nbformat": 4,
 "nbformat_minor": 5
}
