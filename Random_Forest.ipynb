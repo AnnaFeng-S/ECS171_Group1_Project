{
 "cells": [
  {
   "cell_type": "code",
   "execution_count": 2,
   "id": "3bafdebc",
   "metadata": {},
   "outputs": [],
   "source": [
    "import numpy as np\n",
    "import pandas as pd\n",
    "from numpy import array\n",
    "from sklearn.ensemble import RandomForestClassifier, BaggingClassifier\n",
    "from sklearn.tree import DecisionTreeClassifier\n",
    "from sklearn.model_selection import train_test_split,cross_val_score,cross_validate,GridSearchCV\n",
    "from sklearn.metrics import confusion_matrix, accuracy_score, mean_squared_error, multilabel_confusion_matrix, classification_report"
   ]
  },
  {
   "cell_type": "code",
   "execution_count": 3,
   "id": "b080f9b6",
   "metadata": {},
   "outputs": [
    {
     "name": "stdout",
     "output_type": "stream",
     "text": [
      "0       1\n",
      "1       1\n",
      "2       1\n",
      "3       1\n",
      "4       1\n",
      "       ..\n",
      "1495    2\n",
      "1496    2\n",
      "1497    2\n",
      "1498    2\n",
      "1499    2\n",
      "Name: popularity, Length: 171184, dtype: int64\n",
      "      danceability  instrumentalness  liveness  loudness  speechiness  \\\n",
      "0         0.541895          0.029930  0.095251  0.808082     0.024661   \n",
      "1         0.503272          0.621622  0.369907  0.745076     0.302498   \n",
      "2         0.268319          0.283283  0.509254  0.730983     0.014712   \n",
      "3         0.477524          0.004755  0.113427  0.778349     0.004551   \n",
      "4         0.423882          0.376376  0.097271  0.701589     0.016617   \n",
      "...            ...               ...       ...       ...          ...   \n",
      "1495      0.590173          0.000000  0.066978  0.677070     0.019263   \n",
      "1496      0.488252          0.000000  0.088890  0.699952     0.029213   \n",
      "1497      0.717841          0.000124  0.103329  0.810608     0.079911   \n",
      "1498      0.586954          0.000040  0.093232  0.814594     0.010267   \n",
      "1499      0.875550          0.387387  0.063544  0.825857     0.048476   \n",
      "\n",
      "       valence  \n",
      "0     0.416768  \n",
      "1     0.780275  \n",
      "2     0.509923  \n",
      "3     0.452207  \n",
      "4     0.648643  \n",
      "...        ...  \n",
      "1495  0.332726  \n",
      "1496  0.950385  \n",
      "1497  0.574727  \n",
      "1498  0.716484  \n",
      "1499  0.540300  \n",
      "\n",
      "[171184 rows x 6 columns]\n"
     ]
    }
   ],
   "source": [
    "df1 = pd.read_csv('SpotifyFeatures.csv',encoding='latin-1')\n",
    "\n",
    "# Drop columns\n",
    "dropped_columns = ['genre', 'artist_name', 'track_name','track_id', 'mode', 'duration_ms', 'tempo', 'energy', 'acousticness']\n",
    "df1.drop(columns=dropped_columns, inplace=True)\n",
    "\n",
    "df2 = pd.read_csv('spotify_top200_new.csv',encoding='latin-1')\n",
    "\n",
    "# Drop columns\n",
    "dropped_columns = ['Index','Highest Charting Position','Number of Times Charted','Week of Highest Charting','Song Name','Streams', 'Artist', 'Artist Followers','Song ID', 'Genre', 'Release Date', 'duration','tempo', 'Chord', 'energy','acousticness']\n",
    "df2.drop(columns=dropped_columns, inplace=True)\n",
    "\n",
    "df = pd.concat([df1,df2])\n",
    "\n",
    "# Normalize data\n",
    "X, y = df.drop(columns='popularity'), df['popularity']\n",
    "X = (X-X.min())/(X.max()-X.min())\n",
    "\n",
    "y = ((y-1)//20)+1\n",
    "\n",
    "print(y)\n",
    "print(X)"
   ]
  },
  {
   "cell_type": "code",
   "execution_count": 4,
   "id": "094293f4",
   "metadata": {},
   "outputs": [
    {
     "name": "stdout",
     "output_type": "stream",
     "text": [
      "{1: 25716, 2: 69033, 3: 61759, 4: 13849, 5: 827}\n",
      "{1: 25716, 2: 69028, 3: 61563, 4: 12884, 5: 493}\n",
      "{5: 334, 4: 965, 3: 196, 2: 5}\n"
     ]
    }
   ],
   "source": [
    "def getdistribution(data):\n",
    "    distribution = dict()\n",
    "    for value in data:\n",
    "        if value in distribution:\n",
    "            distribution[value] += 1\n",
    "        else:\n",
    "            distribution[value] = 1\n",
    "    return distribution\n",
    "\n",
    "dist = getdistribution(y)\n",
    "print(dist) # print frequency\n",
    "\n",
    "df1['popularity'] = ((df1['popularity']-1)//20)+1\n",
    "dist = getdistribution( df1['popularity'])\n",
    "print(dist) # print frequency\n",
    "\n",
    "df2['popularity'] = ((df2['popularity']-1)//20)+1\n",
    "dist = getdistribution( df2['popularity'])\n",
    "print(dist) # print frequency"
   ]
  },
  {
   "cell_type": "code",
   "execution_count": 5,
   "id": "d64d7239",
   "metadata": {},
   "outputs": [
    {
     "data": {
      "text/plain": [
       "RandomForestClassifier(n_estimators=1500, random_state=1)"
      ]
     },
     "execution_count": 5,
     "metadata": {},
     "output_type": "execute_result"
    }
   ],
   "source": [
    "X_train, X_test, y_train, y_test = train_test_split(X, y, test_size = 0.30, random_state=5)\n",
    "\n",
    "rf_cla = RandomForestClassifier(n_estimators=1500,random_state=1)\n",
    "rf_cla.fit(X_train, y_train)"
   ]
  },
  {
   "cell_type": "code",
   "execution_count": 6,
   "id": "2553293f",
   "metadata": {},
   "outputs": [
    {
     "name": "stdout",
     "output_type": "stream",
     "text": [
      "\n",
      "Accuracy: \n",
      "0.5107290287405561\n",
      "\n",
      "MSE: \n",
      "0.6795700599735182\n",
      "\n",
      "Precision and recall:\n",
      "              precision    recall  f1-score   support\n",
      "\n",
      "           1       0.60      0.35      0.44      7716\n",
      "           2       0.51      0.59      0.55     20602\n",
      "           3       0.49      0.61      0.55     18655\n",
      "           4       0.33      0.03      0.05      4146\n",
      "           5       0.66      0.11      0.18       237\n",
      "\n",
      "    accuracy                           0.51     51356\n",
      "   macro avg       0.52      0.34      0.35     51356\n",
      "weighted avg       0.50      0.51      0.49     51356\n",
      "\n",
      "Confusion matrix: \n",
      "[[[41821  1819]\n",
      "  [ 5018  2698]]\n",
      "\n",
      " [[19267 11487]\n",
      "  [ 8546 12056]]\n",
      "\n",
      " [[21136 11565]\n",
      "  [ 7323 11332]]\n",
      "\n",
      " [[46967   243]\n",
      "  [ 4028   118]]\n",
      "\n",
      " [[51106    13]\n",
      "  [  212    25]]]\n"
     ]
    }
   ],
   "source": [
    "# Make prediction\n",
    "y_pred = rf_cla.predict(X_test)\n",
    "\n",
    "# Accuracy\n",
    "print(\"\\nAccuracy: \")\n",
    "print(accuracy_score(y_test, y_pred))\n",
    "\n",
    "# MSE\n",
    "print('\\nMSE: ')\n",
    "print(mean_squared_error(y_test,y_pred))\n",
    "\n",
    "# The map of label and their precision and recall\n",
    "print(\"\\nPrecision and recall:\" )\n",
    "print(classification_report(y_test, y_pred))\n",
    "\n",
    "\n",
    "print(\"Confusion matrix: \")\n",
    "matrix = confusion_matrix(y_test, y_pred)\n",
    "multi_matrix = multilabel_confusion_matrix(y_test, y_pred)\n",
    "print(multi_matrix)"
   ]
  },
  {
   "cell_type": "code",
   "execution_count": 9,
   "id": "5eeed442",
   "metadata": {},
   "outputs": [
    {
     "data": {
      "text/plain": [
       "['random_forest_model500.joblib']"
      ]
     },
     "execution_count": 9,
     "metadata": {},
     "output_type": "execute_result"
    }
   ],
   "source": [
    "import joblib\n",
    "# save the model to disk\n",
    "filename = 'random_forest_model500.joblib'\n",
    "joblib.dump(rf_cla, filename)"
   ]
  },
  {
   "cell_type": "code",
   "execution_count": null,
   "id": "9379e495",
   "metadata": {},
   "outputs": [],
   "source": []
  }
 ],
 "metadata": {
  "kernelspec": {
   "display_name": "Python 3",
   "language": "python",
   "name": "python3"
  },
  "language_info": {
   "codemirror_mode": {
    "name": "ipython",
    "version": 3
   },
   "file_extension": ".py",
   "mimetype": "text/x-python",
   "name": "python",
   "nbconvert_exporter": "python",
   "pygments_lexer": "ipython3",
   "version": "3.8.8"
  }
 },
 "nbformat": 4,
 "nbformat_minor": 5
}
